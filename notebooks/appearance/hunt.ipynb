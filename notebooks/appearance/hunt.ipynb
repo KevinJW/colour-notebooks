{
 "metadata": {
  "name": "",
  "signature": "sha256:c96355e92d0ca1a6433965f81b297ab8e6b30bc2e0e4502c3fc00ac63db03d82"
 },
 "nbformat": 3,
 "nbformat_minor": 0,
 "worksheets": [
  {
   "cells": [
    {
     "cell_type": "heading",
     "level": 1,
     "metadata": {},
     "source": [
      "!!! D . R . A . F . T !!!"
     ]
    },
    {
     "cell_type": "heading",
     "level": 1,
     "metadata": {},
     "source": [
      "Hunt Colour Appearance Model"
     ]
    },
    {
     "cell_type": "heading",
     "level": 2,
     "metadata": {},
     "source": [
      "References"
     ]
    }
   ],
   "metadata": {}
  }
 ]
}