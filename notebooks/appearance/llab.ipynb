{
 "metadata": {
  "name": "",
  "signature": "sha256:06cfecb73a8e18621300fb0bb3a3418896ae4d449172d7185a119518ad1ffe9a"
 },
 "nbformat": 3,
 "nbformat_minor": 0,
 "worksheets": [
  {
   "cells": [
    {
     "cell_type": "heading",
     "level": 1,
     "metadata": {},
     "source": [
      "!!! D . R . A . F . T !!!"
     ]
    },
    {
     "cell_type": "heading",
     "level": 1,
     "metadata": {},
     "source": [
      "LLAB(l:c) Colour Appearance Model"
     ]
    },
    {
     "cell_type": "heading",
     "level": 2,
     "metadata": {},
     "source": [
      "References"
     ]
    }
   ],
   "metadata": {}
  }
 ]
}