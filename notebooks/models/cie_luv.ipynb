{
 "metadata": {
  "name": "",
  "signature": "sha256:38849e537138804395a7f0d01f8d3a7d08126f818b1612eee1dd9b8da58a6092"
 },
 "nbformat": 3,
 "nbformat_minor": 0,
 "worksheets": [
  {
   "cells": [
    {
     "cell_type": "heading",
     "level": 1,
     "metadata": {},
     "source": [
      "!!! D . R . A . F . T !!!"
     ]
    },
    {
     "cell_type": "heading",
     "level": 1,
     "metadata": {},
     "source": [
      "CIE Luv Colourspace"
     ]
    },
    {
     "cell_type": "heading",
     "level": 2,
     "metadata": {},
     "source": [
      "References"
     ]
    }
   ],
   "metadata": {}
  }
 ]
}