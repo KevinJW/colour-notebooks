{
 "metadata": {
  "name": "",
  "signature": "sha256:014a515eacddc49e8163206e1aab2c889424170f43a7f3526947b7433c097b3b"
 },
 "nbformat": 3,
 "nbformat_minor": 0,
 "worksheets": [
  {
   "cells": [
    {
     "cell_type": "heading",
     "level": 1,
     "metadata": {},
     "source": [
      "!!! D . R . A . F . T !!!"
     ]
    },
    {
     "cell_type": "heading",
     "level": 1,
     "metadata": {},
     "source": [
      "RGB Colourspaces"
     ]
    },
    {
     "cell_type": "heading",
     "level": 2,
     "metadata": {},
     "source": [
      "References"
     ]
    }
   ],
   "metadata": {}
  }
 ]
}