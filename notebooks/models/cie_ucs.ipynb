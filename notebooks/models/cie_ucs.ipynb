{
 "metadata": {
  "name": "",
  "signature": "sha256:81d7d185d3cd04b4b80652e487e0f0beec3800fd12892afc1756f1cfc0678917"
 },
 "nbformat": 3,
 "nbformat_minor": 0,
 "worksheets": [
  {
   "cells": [
    {
     "cell_type": "heading",
     "level": 1,
     "metadata": {},
     "source": [
      "!!! D . R . A . F . T !!!"
     ]
    },
    {
     "cell_type": "heading",
     "level": 1,
     "metadata": {},
     "source": [
      "CIE UCS Colourspace"
     ]
    },
    {
     "cell_type": "heading",
     "level": 2,
     "metadata": {},
     "source": [
      "References"
     ]
    }
   ],
   "metadata": {}
  }
 ]
}