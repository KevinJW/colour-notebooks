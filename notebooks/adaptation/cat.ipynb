{
 "metadata": {
  "name": "",
  "signature": "sha256:99c1dbe281fd9a659f1a5c9ae08f42468c76ed502035e503515fe050424970c9"
 },
 "nbformat": 3,
 "nbformat_minor": 0,
 "worksheets": [
  {
   "cells": [
    {
     "cell_type": "heading",
     "level": 1,
     "metadata": {},
     "source": [
      "!!! D . R . A . F . T !!!"
     ]
    },
    {
     "cell_type": "heading",
     "level": 1,
     "metadata": {},
     "source": [
      "Chromatic Adaptation Transforms"
     ]
    },
    {
     "cell_type": "markdown",
     "metadata": {},
     "source": [
      "Adaptation is the process of change by which an organism becomes better suited to its environment. \n",
      "\n",
      "In the context of colour science, it is defined as the process by which the state of the visual system is modified by previous and present exposure to stimuli that may have various luminance values, spectral distributions and angular subtenses. <a name=\"back_reference_1\"><a href=\"#reference_1\">[1]</a></a>\n",
      "\n",
      "The three essential types of adaptation for human vision are:\n",
      "\n",
      "*  Dark adaptation\n",
      "*  Light adaptation\n",
      "*  Chromatic adaptation"
     ]
    },
    {
     "cell_type": "heading",
     "level": 3,
     "metadata": {},
     "source": [
      "Dark Adaptation"
     ]
    },
    {
     "cell_type": "markdown",
     "metadata": {},
     "source": [
      "Dark adaptation happens when the luminance level decreases and as the result of the lack of illumination the observer visual system adaptation to the stimulus, the visual sensitivity increases.\n",
      "\n",
      "When entering a dark area, initially, the [cone cells](http://en.wikipedia.org/wiki/Cone_cell) sensitivity increases to reach full adaptation after around 10 minutes, then the [rod cells](http://en.wikipedia.org/wiki/Rod_cell) sensitivity outperforms the cones and reach complete adaptation after 30 minutes. <a name=\"back_reference_2\"><a href=\"#reference_2\">[2]</a></a> <a name=\"back_reference_3\"><a href=\"#reference_3\">[3]</a></a> <a name=\"back_reference_4\"><a href=\"#reference_4\">[4]</a></a>\n",
      "\n",
      "One effect of rod cells driving the visual system at low luminance level is that humans become colour-blind in those low lighting conditions."
     ]
    },
    {
     "cell_type": "heading",
     "level": 3,
     "metadata": {},
     "source": [
      "Light Adaptation"
     ]
    },
    {
     "cell_type": "markdown",
     "metadata": {},
     "source": [
      "Light adaptation is similar to dark adaption but instead the visual sensitivity decreases with luminance level increase.\n",
      "\n",
      "The adaptation process happening when entering a bright area is faster than dark adaptation and occurs in around 5 minutes. The rod cells first saturate as [rhodopsin](http://en.wikipedia.org/wiki/Rhodopsin) *photobleaches*, while the cone cells continue to adapt reaching peak sensitivity after 5-10 minutes. <a name=\"back_reference_4\"><a href=\"#reference_4\">[4]</a></a> <a name=\"back_reference_5\"><a href=\"#reference_5\">[5]</a></a> <a name=\"back_reference_6\"><a href=\"#reference_6\">[6]</a></a> "
     ]
    },
    {
     "cell_type": "heading",
     "level": 3,
     "metadata": {},
     "source": [
      "Chromatic Adaptation"
     ]
    },
    {
     "cell_type": "markdown",
     "metadata": {},
     "source": [
      "Chromatic adaptation is defined as the visual process whereby approximate compensation is made for changes in the colours of stimuli, especially in the case of changes in illuminants. <a name=\"back_reference_7\"><a href=\"#reference_7\">[7]</a></a> \n",
      "\n",
      "Chromatic adaptation controls the independent sensitivity of the three cones cells type and is the most inportant adaptation mechanism in colour appearance. A white object viewed under different lighting conditions will retain its white appearance because the spectral sensitivity of the three cones cell types are adjusted to compensate for the changes in energy level at their respective wavelength sensitivity domains. <a name=\"back_reference_8\"><a href=\"#reference_8\">[8]</a></a>"
     ]
    },
    {
     "cell_type": "heading",
     "level": 2,
     "metadata": {},
     "source": [
      "Chromatic Adaptation Transforms"
     ]
    },
    {
     "cell_type": "markdown",
     "metadata": {},
     "source": [
      "Chromatic adaptation models are based on physiological plausible representations of cone responses signals.\n",
      "The transformation of *CIE XYZ* tristimulus values into cone responses signals $\\rho \\gamma \\beta$ is done with a linear *chromatic adaptation transform* (CAT). Given a colour stimulus viewed under a test illuminant, the *chromatic adaptation transform* computes the *corresponding colour* stimuli under a reference illuminant.\n",
      "\n",
      "The *CIE* defines corresponding colour stimuli as pairs of colour stimuli that have same colour appearance when one is seen in one set of adaptation conditions and the other is seen in a different set. <a name=\"back_reference_9\"><a href=\"#reference_9\">[9]</a></a>\n",
      "\n",
      "[Colour](https://github.com/colour-science/colour/) defines the following *chromatic adaptation transforms*:"
     ]
    },
    {
     "cell_type": "code",
     "collapsed": false,
     "input": [
      "import colour\n",
      "\n",
      "print(sorted(colour.CHROMATIC_ADAPTATION_METHODS))"
     ],
     "language": "python",
     "metadata": {},
     "outputs": [
      {
       "output_type": "stream",
       "stream": "stdout",
       "text": [
        "[u'Bianco', u'Bianco PC', u'Bradford', u'CAT02', u'CMCCAT2000', u'CMCCAT97', u'Fairchild', u'Sharp', u'Von Kries', u'XYZ Scaling']\n"
       ]
      }
     ],
     "prompt_number": 1
    },
    {
     "cell_type": "heading",
     "level": 2,
     "metadata": {},
     "source": [
      "Von Kries Chromatic Adaptation Transform"
     ]
    },
    {
     "cell_type": "heading",
     "level": 2,
     "metadata": {},
     "source": [
      "References"
     ]
    },
    {
     "cell_type": "markdown",
     "metadata": {},
     "source": [
      "1. <a href=\"#back_reference_1\">^<a> <a name=\"reference_1\"></a>[17-18 adaptation](http://eilv.cie.co.at/term/18) (Last accessed 7 September 2014)\n",
      "2. <a href=\"#back_reference_2\">^<a> <a name=\"reference_2\"></a>http://en.wikipedia.org/wiki/Adaptation_(eye)#Dark_Adaptation (Last accessed 7 September 2014)\n",
      "3. <a href=\"#back_reference_3\">^<a> <a name=\"reference_3\"></a>**Mark D. Fairchild**, *Color Appearance Models, 3nd Edition*, The Wiley-IS&T Series in Imaging Science and Technology, published June 2013, ASIN: B00DAYO8E2, locations 986, 3749.\n",
      "4. <a href=\"#back_reference_4\">^<a> <a name=\"reference_4\"></a>http://webvision.med.utah.edu/book/part-viii-gabac-receptors/light-and-dark-adaptation/ (Last accessed 7 September 2014)\n",
      "5. <a href=\"#back_reference_5\">^<a> <a name=\"reference_5\"></a>http://en.wikipedia.org/wiki/Adaptation_(eye)#Light_Adaptation (Last accessed 7 September 2014)\n",
      "6. <a href=\"#back_reference_6\">^<a> <a name=\"reference_6\"></a>**Mark D. Fairchild**, *Color Appearance Models, 3nd Edition*, The Wiley-IS&T Series in Imaging Science and Technology, published June 2013, ASIN: B00DAYO8E2, locations 1009, 3728.\n",
      "7. <a href=\"#back_reference_7\">^<a> <a name=\"reference_7\"></a>[17-140 chromatic adaptation](http://eilv.cie.co.at/term/140) (Last accessed 7 September 2014)\n",
      "8. <a href=\"#back_reference_8\">^<a> <a name=\"reference_8\"></a>**Mark D. Fairchild**, *Color Appearance Models, 3nd Edition*, The Wiley-IS&T Series in Imaging Science and Technology, published June 2013, ASIN: B00DAYO8E2, locations 1029, 3749.\n",
      "1. <a href=\"#back_reference_1\">^<a> <a name=\"reference_1\"></a>[17-260 corresponding colour stimuli](http://eilv.cie.co.at/term/260) (Last accessed 7 September 2014)"
     ]
    }
   ],
   "metadata": {}
  }
 ]
}