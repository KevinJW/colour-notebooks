{
 "metadata": {
  "name": "",
  "signature": "sha256:dbaabf1bdb3f33ecd3d5fc35a28c8d77c34401f07b12679d0963c350dc6d64ba"
 },
 "nbformat": 3,
 "nbformat_minor": 0,
 "worksheets": [
  {
   "cells": [
    {
     "cell_type": "heading",
     "level": 1,
     "metadata": {},
     "source": [
      "!!! D . R . A . F . T !!!"
     ]
    },
    {
     "cell_type": "heading",
     "level": 1,
     "metadata": {},
     "source": [
      "Chromatic Adaptation Transforms"
     ]
    },
    {
     "cell_type": "heading",
     "level": 2,
     "metadata": {},
     "source": [
      "References"
     ]
    }
   ],
   "metadata": {}
  }
 ]
}