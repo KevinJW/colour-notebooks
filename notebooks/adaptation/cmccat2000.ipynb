{
 "metadata": {
  "name": "",
  "signature": "sha256:46078e029e28e6da702c7acc995c60426c32a3388a5c6a2e5d7e42253dde209a"
 },
 "nbformat": 3,
 "nbformat_minor": 0,
 "worksheets": [
  {
   "cells": [
    {
     "cell_type": "heading",
     "level": 1,
     "metadata": {},
     "source": [
      "!!! D . R . A . F . T !!!"
     ]
    },
    {
     "cell_type": "heading",
     "level": 1,
     "metadata": {},
     "source": [
      "CMCCAT2000 Chromatic Adaptation Model"
     ]
    },
    {
     "cell_type": "heading",
     "level": 2,
     "metadata": {},
     "source": [
      "References"
     ]
    }
   ],
   "metadata": {}
  }
 ]
}