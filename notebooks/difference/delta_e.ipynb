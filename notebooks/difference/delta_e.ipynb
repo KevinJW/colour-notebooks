{
 "metadata": {
  "name": "",
  "signature": "sha256:f903eb398fd4e7e382510f9e39c1a8a3b98fa86553515e3adc1421819a0cf9c8"
 },
 "nbformat": 3,
 "nbformat_minor": 0,
 "worksheets": [
  {
   "cells": [
    {
     "cell_type": "heading",
     "level": 1,
     "metadata": {},
     "source": [
      "!!! D . R . A . F . T !!!"
     ]
    },
    {
     "cell_type": "heading",
     "level": 1,
     "metadata": {},
     "source": [
      "$\\Delta E_{ab}$"
     ]
    },
    {
     "cell_type": "heading",
     "level": 2,
     "metadata": {},
     "source": [
      "References"
     ]
    }
   ],
   "metadata": {}
  }
 ]
}