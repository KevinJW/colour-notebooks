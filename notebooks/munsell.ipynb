{
 "metadata": {
  "name": "",
  "signature": "sha256:eb8501702d528f18d842592fa0e9636774726bd5b5f79b2ce696aea027114934"
 },
 "nbformat": 3,
 "nbformat_minor": 0,
 "worksheets": [
  {
   "cells": [
    {
     "cell_type": "heading",
     "level": 1,
     "metadata": {},
     "source": [
      "Munsell Renotation System"
     ]
    },
    {
     "cell_type": "code",
     "collapsed": false,
     "input": [],
     "language": "python",
     "metadata": {},
     "outputs": []
    }
   ],
   "metadata": {}
  }
 ]
}