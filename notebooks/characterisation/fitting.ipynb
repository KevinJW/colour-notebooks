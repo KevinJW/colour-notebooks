{
 "metadata": {
  "name": "",
  "signature": "sha256:e2688b4cfe0ff488cc28460f85e809c81fae994c6bb54fc553f31cc9cfe5d545"
 },
 "nbformat": 3,
 "nbformat_minor": 0,
 "worksheets": [
  {
   "cells": [
    {
     "cell_type": "heading",
     "level": 1,
     "metadata": {},
     "source": [
      "!!! D . R . A . F . T !!!"
     ]
    },
    {
     "cell_type": "heading",
     "level": 1,
     "metadata": {},
     "source": [
      "Colour Fitting"
     ]
    },
    {
     "cell_type": "heading",
     "level": 2,
     "metadata": {},
     "source": [
      "References"
     ]
    }
   ],
   "metadata": {}
  }
 ]
}