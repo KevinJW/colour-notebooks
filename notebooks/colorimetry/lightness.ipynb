{
 "metadata": {
  "name": "",
  "signature": "sha256:c79c41c765a2de07923b75f84af9df214ff575b49a41b3bd67b8e58b8dcee3bf"
 },
 "nbformat": 3,
 "nbformat_minor": 0,
 "worksheets": [
  {
   "cells": [
    {
     "cell_type": "heading",
     "level": 1,
     "metadata": {},
     "source": [
      "!!! D . R . A . F . T !!!"
     ]
    },
    {
     "cell_type": "heading",
     "level": 1,
     "metadata": {},
     "source": [
      "Lightness"
     ]
    },
    {
     "cell_type": "markdown",
     "metadata": {},
     "source": [
      "[Lightness](http://en.wikipedia.org/wiki/Lightness) is defined as the brightness of an area judged relative to the brightness of a similarly illuminated area that appears to be white or highly transmitting. <a name=\"back_reference_1\"><a href=\"#reference_1\">[1]</a></a>"
     ]
    },
    {
     "cell_type": "heading",
     "level": 2,
     "metadata": {},
     "source": [
      "References"
     ]
    },
    {
     "cell_type": "markdown",
     "metadata": {},
     "source": [
      "1. <a href=\"#back_reference_1\">^<a> <a name=\"reference_1\"></a>[17-680 lightness (of a related colour)](http://eilv.cie.co.at/term/680) (Last accessed 9 July 2014)"
     ]
    }
   ],
   "metadata": {}
  }
 ]
}