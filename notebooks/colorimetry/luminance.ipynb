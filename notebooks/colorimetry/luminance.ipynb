{
 "metadata": {
  "name": "",
  "signature": "sha256:52a9f4834899628afbf4c347c00b150313061ef33ecf0f2d9438e4e260c24522"
 },
 "nbformat": 3,
 "nbformat_minor": 0,
 "worksheets": [
  {
   "cells": [
    {
     "cell_type": "heading",
     "level": 1,
     "metadata": {},
     "source": [
      "Luminance"
     ]
    },
    {
     "cell_type": "markdown",
     "metadata": {},
     "source": [
      "The [Luminance](http://en.wikipedia.org/wiki/Luminance) $L_v$ is the quantity defined by the formula: <a name=\"back_reference_1\"><a href=\"#reference_1\">[1]</a></a>\n",
      "\n",
      "$$\n",
      "\\begin{equation}\n",
      "L_v=\\cfrac{d\\Phi_v}{dAcos\\theta d\\Omega}\n",
      "\\end{equation}\n",
      "$$\n",
      "\n",
      "where $d\\Phi_v$ is the [luminous flux](http://en.wikipedia.org/wiki/Luminous_flux) transmitted by an elementary beam passing through the given point and propagating in the solid angle, $d\\Omega$, containing the given direction. $dA$ is the area of a section of that beam containing the given point. $\\theta$ is the angle between the normal to that section and the direction of the beam.\n",
      "\n",
      "$L_v$ unit is candela per square metre (or nits) $cd\\cdot m^{-2}=lm\\cdot m^{-2}\\cdot sr^{-1}$.\n",
      "\n",
      "[Colour](https://github.com/colour-science/colour/) defines the following *luminance* computation methods:"
     ]
    },
    {
     "cell_type": "code",
     "collapsed": false,
     "input": [
      "import colour\n",
      "\n",
      "sorted(colour.LUMINANCE_METHODS.keys())"
     ],
     "language": "python",
     "metadata": {},
     "outputs": [
      {
       "metadata": {},
       "output_type": "pyout",
       "prompt_number": 1,
       "text": [
        "[u'ASTM D1535-08', u'CIE 1976', u'Newhall 1943', u'astm2008', u'cie1976']"
       ]
      }
     ],
     "prompt_number": 1
    },
    {
     "cell_type": "markdown",
     "metadata": {},
     "source": [
      "> Note: *'astm2008'* and *'cie1976'* are convenient aliases for respectively *'ASTM D1535-08'* and *'CIE 1976'*."
     ]
    },
    {
     "cell_type": "heading",
     "level": 2,
     "metadata": {},
     "source": [
      "Sidney M. Newhall, Dorothy Nickerson, and Deane B. Judd (1943) Method"
     ]
    },
    {
     "cell_type": "markdown",
     "metadata": {},
     "source": [
      "In 1943, *Sidney M. Newhall*, *Dorothy Nickerson*, and *Deane B. Judd* fitted a quintic-parabola function to the adjusted *Munsell-Sloan-Godlove* reflectances, the resulting equation computing *luminance* $R_Y$ as function of *Munsell* value $V$ is expressed as follows: <a name=\"back_reference_2\"><a href=\"#reference_2\">[2]</a></a>\n",
      "\n",
      "$$\n",
      "\\begin{equation}\n",
      "R_Y=1.2219V-0.23111V^2+0.23951V^3-0.021009V^4+0.0008404V^5\n",
      "\\end{equation}\n",
      "$$\n",
      "\n",
      "> See Also: The [Munsell Renotation System](../notation/munsell.ipynb) notebook for in-depth informations about the *Munsell Renotation System*.\n",
      "\n",
      "The *colour.luminance_newhall1943* definition is used to compute *luminance* $R_Y$:"
     ]
    },
    {
     "cell_type": "code",
     "collapsed": false,
     "input": [
      "colour.luminance_newhall1943(3.74629715382)"
     ],
     "language": "python",
     "metadata": {},
     "outputs": [
      {
       "metadata": {},
       "output_type": "pyout",
       "prompt_number": 2,
       "text": [
        "10.408987457743208"
       ]
      }
     ],
     "prompt_number": 2
    },
    {
     "cell_type": "markdown",
     "metadata": {},
     "source": [
      "> Note: Input *Munsell* value $V$ is in domain [0, 10], output *luminance* $R_Y$ is in domain [0, 100].\n",
      "\n",
      "The *colour.luminance* definition is implemented as a wrapper for various luminance computation methods:"
     ]
    },
    {
     "cell_type": "code",
     "collapsed": false,
     "input": [
      "colour.luminance(3.74629715382, method='Newhall 1943')"
     ],
     "language": "python",
     "metadata": {},
     "outputs": [
      {
       "metadata": {},
       "output_type": "pyout",
       "prompt_number": 3,
       "text": [
        "10.408987457743208"
       ]
      }
     ],
     "prompt_number": 3
    },
    {
     "cell_type": "heading",
     "level": 2,
     "metadata": {},
     "source": [
      "ASTM D1535-08$^{\\epsilon 1}$ (2008) Method"
     ]
    },
    {
     "cell_type": "markdown",
     "metadata": {},
     "source": [
      "Since 1943, the reference white used for the *Munsell Renotation System* has changed.\n",
      "\n",
      "As a result the quintic-parabola function from *Sidney M. Newhall*, *Dorothy Nickerson*, and *Deane B. Judd* has been adjusted: Each coefficient of the function has been multiplied by 0.975, the reflectance factor of magnesium oxide with respect to the perfect reflecting diffuser and then rounded to five digits.\n",
      "\n",
      "The updated equation for computing *luminance* $Y$ as function of the *Munsell* value $V$ is expressed as follows: <a name=\"back_reference_3\"><a href=\"#reference_3\">[3]</a></a>\n",
      "\n",
      "$$\n",
      "\\begin{equation}\n",
      "Y=1.1914V-0.22533V^2+0.23352V^3-0.020484V^4+0.00081939V^5\n",
      "\\end{equation}\n",
      "$$\n",
      "\n",
      "> See Also: The [Munsell Renotation System](../notation/munsell.ipynb) notebook for in-depth informations about the *Munsell Renotation System*.\n",
      "\n",
      "The *colour.luminance_ASTM_D1535_08* definition is used to compute *luminance* $Y$:"
     ]
    },
    {
     "cell_type": "code",
     "collapsed": false,
     "input": [
      "colour.luminance_ASTM_D1535_08(3.74629715382)"
     ],
     "language": "python",
     "metadata": {},
     "outputs": [
      {
       "metadata": {},
       "output_type": "pyout",
       "prompt_number": 4,
       "text": [
        "10.148809678226682"
       ]
      }
     ],
     "prompt_number": 4
    },
    {
     "cell_type": "markdown",
     "metadata": {},
     "source": [
      "> Note: Input *Munsell* value $V$ is in domain [0, 10], output *luminance* $Y$ is in domain [0, 100].\n",
      "\n",
      "Using the *colour.luminance* wrapper definition:"
     ]
    },
    {
     "cell_type": "code",
     "collapsed": false,
     "input": [
      "colour.luminance(3.74629715382, method='ASTM D1535-08')"
     ],
     "language": "python",
     "metadata": {},
     "outputs": [
      {
       "metadata": {},
       "output_type": "pyout",
       "prompt_number": 5,
       "text": [
        "10.148809678226682"
       ]
      }
     ],
     "prompt_number": 5
    },
    {
     "cell_type": "code",
     "collapsed": false,
     "input": [
      "colour.luminance(3.74629715382, method='astm2008')"
     ],
     "language": "python",
     "metadata": {},
     "outputs": [
      {
       "metadata": {},
       "output_type": "pyout",
       "prompt_number": 6,
       "text": [
        "10.148809678226682"
       ]
      }
     ],
     "prompt_number": 6
    },
    {
     "cell_type": "heading",
     "level": 2,
     "metadata": {},
     "source": [
      "CIE 1976 Method"
     ]
    },
    {
     "cell_type": "markdown",
     "metadata": {},
     "source": [
      "The *CIE $L^*a^*b^*$* approximately uniform colourspace defined in 1976 computes the *luminance* $Y$ quantity as follows: <a name=\"back_reference_4\"><a href=\"#reference_4\">[4]</a></a>\n",
      "\n",
      "$$\n",
      "\\begin{equation}\n",
      "Y=\\begin{cases}Y_n*\\biggl(\\cfrac{L^*+16}{116}\\biggr)^3 & for\\ L^*>\\kappa*\\epsilon\\\\\n",
      "Y_n*\\biggl(\\cfrac{L^*}{\\kappa}\\biggr) & for\\ L^*<=\\kappa*\\epsilon\n",
      "\\end{cases}\n",
      "\\end{equation}\n",
      "$$\n",
      "where $Y_n$ is the reference white *luminance*.\n",
      "with\n",
      "$$\n",
      "\\begin{equation}\n",
      "\\begin{aligned}\n",
      "\\epsilon&\\ =\\begin{cases}0.008856 & Actual\\ CIE\\ Standard\\\\\n",
      "216\\ /\\ 24389 & Intent\\ of\\ the\\ CIE\\ Standard\n",
      "\\end{cases}\\\\\n",
      "\\kappa&\\ =\\begin{cases}903.3 & Actual\\ CIE\\ Standard\\\\\n",
      "24389\\ /\\ 27 & Intent\\ of\\ the\\ CIE\\ Standard\n",
      "\\end{cases}\n",
      "\\end{aligned}\n",
      "\\end{equation}\n",
      "$$\n",
      "\n",
      "The original $\\epsilon$ and $\\kappa$ constants values have been shown to exhibit discontinuity at the junction point of the two functions grafted together to create the *Lightness* $L^*$ function. <a name=\"back_reference_5\"><a href=\"#reference_5\">[5]</a></a>\n",
      "\n",
      "[Colour](https://github.com/colour-science/colour/) uses the rational values instead of the decimal values for these constants.\n",
      "\n",
      "> See Also: The [CIE $L^*a^*b^*$ Colourspace](../models/cie_lab.ipynb) notebook for in-depth informations about the *CIE $L^*a^*b^*$* colourspace.\n",
      "\n",
      "The *colour.luminance_1976* definition is used to compute *Luminance* $Y$:"
     ]
    },
    {
     "cell_type": "code",
     "collapsed": false,
     "input": [
      "colour.luminance_1976(37.9856290977)"
     ],
     "language": "python",
     "metadata": {},
     "outputs": [
      {
       "metadata": {},
       "output_type": "pyout",
       "prompt_number": 7,
       "text": [
        "10.080000000026304"
       ]
      }
     ],
     "prompt_number": 7
    },
    {
     "cell_type": "markdown",
     "metadata": {},
     "source": [
      "> Note: Input *Lightness* $L^*$ and and $Y_n$ are in domain [0, 100], output *luminance* $Y$ is in domain [0, 100].\n",
      "\n",
      "Using the *colour.luminance* wrapper definition:"
     ]
    },
    {
     "cell_type": "code",
     "collapsed": false,
     "input": [
      "colour.luminance(37.9856290977, method='CIE 1976')"
     ],
     "language": "python",
     "metadata": {},
     "outputs": [
      {
       "metadata": {},
       "output_type": "pyout",
       "prompt_number": 8,
       "text": [
        "10.080000000026304"
       ]
      }
     ],
     "prompt_number": 8
    },
    {
     "cell_type": "code",
     "collapsed": false,
     "input": [
      "colour.luminance(37.9856290977, method='cie1976')"
     ],
     "language": "python",
     "metadata": {},
     "outputs": [
      {
       "metadata": {},
       "output_type": "pyout",
       "prompt_number": 9,
       "text": [
        "10.080000000026304"
       ]
      }
     ],
     "prompt_number": 9
    },
    {
     "cell_type": "heading",
     "level": 2,
     "metadata": {},
     "source": [
      "References"
     ]
    },
    {
     "cell_type": "markdown",
     "metadata": {},
     "source": [
      "1. <a href=\"#back_reference_1\">^<a> <a name=\"reference_1\"></a>[17-711 luminance (in a given direction, at a given point of a real or imaginary surface) [Lv; L]](http://eilv.cie.co.at/term/711) (Last accessed 9 July 2014)\n",
      "2. <a href=\"#back_reference_2\">^<a> <a name=\"reference_2\"></a>**Sidney M. Newhall, Dorothy Nickerson, and Deane B. Judd**, *Final Report of the O.S.A. Subcommittee on the Spacing of the Munsell Colors*, *JOSA, Vol. 33, Issue 7, pp. 385-411 (1943)*, DOI: http://dx.doi.org/10.1364/JOSA.33.000385\n",
      "3. <a href=\"#back_reference_3\">^<a> <a name=\"reference_3\"></a>[ASTM D1535-08e1 - Standard Practice for Specifying Color by the Munsell System](http://www.scribd.com/doc/89648322/ASTM-D1535-08e1-Standard-Practice-for-Specifying-Color-by-the-Munsell-System), DOI: http://dx.doi.org/10.1520/D1535-13\n",
      "4. <a href=\"#back_reference_4\">^<a> <a name=\"reference_4\"></a>**Wyszecki & Stiles**, *Color Science - Concepts and Methods Data and Formulae - Second Edition*, Wiley Classics Library Edition, published 2000, ISBN-10: 0-471-39918-3, page 167.\n",
      "5. <a href=\"#back_reference_5\">^<a> <a name=\"reference_5\"></a>**Bruce Lindbloom**, http://brucelindbloom.com/index.html?LContinuity.html (Last accessed 24 February 2014)"
     ]
    }
   ],
   "metadata": {}
  }
 ]
}