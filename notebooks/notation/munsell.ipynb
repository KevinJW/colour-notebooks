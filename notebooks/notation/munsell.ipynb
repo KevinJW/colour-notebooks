{
 "metadata": {
  "name": "",
  "signature": "sha256:f8dabc251c4f74e17b740c0f326c503d405eb0de9b8b3a278475f861cab674f2"
 },
 "nbformat": 3,
 "nbformat_minor": 0,
 "worksheets": [
  {
   "cells": [
    {
     "cell_type": "heading",
     "level": 1,
     "metadata": {},
     "source": [
      "!!! D . R . A . F . T !!!"
     ]
    },
    {
     "cell_type": "heading",
     "level": 1,
     "metadata": {},
     "source": [
      "Munsell Renotation System"
     ]
    },
    {
     "cell_type": "heading",
     "level": 2,
     "metadata": {},
     "source": [
      "Munsell Value"
     ]
    },
    {
     "cell_type": "markdown",
     "metadata": {},
     "source": [
      "The [Munsell Value](http://munsell.com/about-munsell-color/how-color-notation-works/munsell-value/) indicates the lightness of a color. <a name=\"back_reference_1\"><a href=\"#reference_1\">[1]</a></a>"
     ]
    },
    {
     "cell_type": "heading",
     "level": 2,
     "metadata": {},
     "source": [
      "References"
     ]
    },
    {
     "cell_type": "markdown",
     "metadata": {},
     "source": [
      "1. <a href=\"#back_reference_1\">^<a> <a name=\"reference_1\"></a>[Munsell Value](http://munsell.com/about-munsell-color/how-color-notation-works/munsell-value/) (Last accessed 9 July 2014) "
     ]
    }
   ],
   "metadata": {}
  }
 ]
}