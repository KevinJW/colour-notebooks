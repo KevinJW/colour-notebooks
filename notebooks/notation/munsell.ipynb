{
 "metadata": {
  "name": "",
  "signature": "sha256:12485df0e01fc6feb8b3a2dc9b7a5dc8665134e0be40e23ac1164f9af7cc582b"
 },
 "nbformat": 3,
 "nbformat_minor": 0,
 "worksheets": [
  {
   "cells": [
    {
     "cell_type": "heading",
     "level": 1,
     "metadata": {},
     "source": [
      "!!! D . R . A . F . T !!!"
     ]
    },
    {
     "cell_type": "heading",
     "level": 1,
     "metadata": {},
     "source": [
      "Munsell Renotation System"
     ]
    },
    {
     "cell_type": "heading",
     "level": 2,
     "metadata": {},
     "source": [
      "Munsell Value"
     ]
    },
    {
     "cell_type": "markdown",
     "metadata": {},
     "source": [
      "The [Munsell Value](http://munsell.com/about-munsell-color/how-color-notation-works/munsell-value/) indicates the lightness of a colour. <a name=\"back_reference_1\"></a><a href=\"#reference_1\">[1]</a>"
     ]
    },
    {
     "cell_type": "heading",
     "level": 2,
     "metadata": {},
     "source": [
      "References"
     ]
    },
    {
     "cell_type": "markdown",
     "metadata": {},
     "source": [
      "1. <a href=\"#back_reference_1\">^<a> <a name=\"reference_1\"></a>X-Rite. (n.d.). Munsell Value. Retrieved July 09, 2014, from http://munsell.com/about-munsell-color/how-color-notation-works/munsell-value/"
     ]
    }
   ],
   "metadata": {}
  }
 ]
}