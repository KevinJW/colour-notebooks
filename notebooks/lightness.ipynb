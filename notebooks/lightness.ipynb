{
 "metadata": {
  "name": "",
  "signature": "sha256:34cb4042a197f63118073fa21669facbb36e91d76b2778b1238720c83b4761e5"
 },
 "nbformat": 3,
 "nbformat_minor": 0,
 "worksheets": [
  {
   "cells": [
    {
     "cell_type": "heading",
     "level": 1,
     "metadata": {},
     "source": [
      "Luminance, Lightness & Munsell Value"
     ]
    },
    {
     "cell_type": "markdown",
     "metadata": {},
     "source": [
      "The [Luminance](http://en.wikipedia.org/wiki/Luminance) $L_v$ is the quantity defined by the formula: <a name=\"back_reference_1\"><a href=\"#reference_1\">[1]</a></a>\n",
      "\n",
      "$$\n",
      "\\begin{equation}\n",
      "L_v=\\cfrac{d\\Phi_v}{dAcos\\theta d\\Omega}\n",
      "\\end{equation}\n",
      "$$\n",
      "\n",
      "where $d\\Phi_v$ is the [luminous flux](http://en.wikipedia.org/wiki/Luminous_flux) transmitted by an elementary beam passing through the given point and propagating in the solid angle, $d\\Omega$, containing the given direction. $dA$ is the area of a section of that beam containing the given point. $\\theta$ is the angle between the normal to that section and the direction of the beam.\n",
      "\n",
      "$L_v$ unit is candela per square metre (or nits) $cd\\cdot m^{-2}=lm\\cdot m^{-2}\\cdot sr^{-1}$.\n",
      "\n",
      "[Lightness](http://en.wikipedia.org/wiki/Lightness) is defined as the brightness of an area judged relative to the brightness of a similarly illuminated area that appears to be white or highly transmitting. <a name=\"back_reference_2\"><a href=\"#reference_2\">[2]</a></a>\n",
      "\n",
      "The [Munsell Value](http://munsell.com/about-munsell-color/how-color-notation-works/munsell-value/) indicates the lightness of a color. <a name=\"back_reference_3\"><a href=\"#reference_3\">[3]</a></a>"
     ]
    },
    {
     "cell_type": "heading",
     "level": 2,
     "metadata": {},
     "source": [
      "Luminance"
     ]
    },
    {
     "cell_type": "heading",
     "level": 2,
     "metadata": {},
     "source": [
      "Lightness"
     ]
    },
    {
     "cell_type": "heading",
     "level": 2,
     "metadata": {},
     "source": [
      "Munsell Value"
     ]
    },
    {
     "cell_type": "heading",
     "level": 2,
     "metadata": {},
     "source": [
      "References"
     ]
    },
    {
     "cell_type": "markdown",
     "metadata": {},
     "source": [
      "1. <a href=\"#back_reference_1\">^<a> <a name=\"reference_1\"></a>[17-711 luminance (in a given direction, at a given point of a real or imaginary surface) [Lv; L]](http://eilv.cie.co.at/term/711) (Last accessed 9 July 2014) \n",
      "2. <a href=\"#back_reference_2\">^<a> <a name=\"reference_2\"></a>[17-680 lightness (of a related colour)](http://eilv.cie.co.at/term/680) (Last accessed 9 July 2014) \n",
      "3. <a href=\"#back_reference_3\">^<a> <a name=\"reference_3\"></a>[Munsell Value](http://munsell.com/about-munsell-color/how-color-notation-works/munsell-value/) (Last accessed 9 July 2014) \n"
     ]
    },
    {
     "cell_type": "code",
     "collapsed": false,
     "input": [],
     "language": "python",
     "metadata": {},
     "outputs": []
    }
   ],
   "metadata": {}
  }
 ]
}